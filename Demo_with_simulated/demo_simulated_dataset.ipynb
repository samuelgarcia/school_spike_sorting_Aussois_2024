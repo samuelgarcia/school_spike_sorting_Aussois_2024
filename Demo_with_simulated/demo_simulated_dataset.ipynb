{
 "cells": [
  {
   "cell_type": "markdown",
   "metadata": {},
   "source": [
    "# Simple sorter on generated dataset\n",
    "\n",
    "Here we will simulate 5min of a very simple dataset one tetrode with 5 units.\n",
    "\n",
    "We will run a very simple sorter on it which is the very lagacy way on doing spike sorting:\n",
    "  1. preprocess signal\n",
    "  2. detect peaks with a treshold\n",
    "  3. extract waveforms snipets\n",
    "  4. project using SVD (aka PCA)\n",
    "  5. run and try some clustering algos on it : HDBSCAN or KMeans or MeanShift or ...\n",
    "\n",
    "\n",
    "This will shoudl demonstrate how easy to do legacy spike sorting and also the drawback and limit of this \n",
    "apprach without template matching.\n"
   ]
  },
  {
   "cell_type": "code",
   "execution_count": 1,
   "metadata": {},
   "outputs": [],
   "source": [
    "# this is for debuging\n",
    "%matplotlib inline\n",
    "%load_ext autoreload\n",
    "%autoreload 2"
   ]
  },
  {
   "cell_type": "code",
   "execution_count": 2,
   "metadata": {},
   "outputs": [],
   "source": [
    "# some imports\n",
    "from pathlib import Path\n",
    "import shutil\n",
    "\n",
    "import numpy as np\n",
    "\n",
    "import matplotlib.pyplot as plt\n",
    "\n",
    "import spikeinterface.full as si"
   ]
  },
  {
   "cell_type": "code",
   "execution_count": 3,
   "metadata": {},
   "outputs": [],
   "source": [
    "# the path where we want to run the spike sorting\n",
    "base_folder = Path(\"/home/samuel/DataSpikeSorting/Aussois_SI_tutos/generated_recording/\")\n"
   ]
  },
  {
   "cell_type": "code",
   "execution_count": 4,
   "metadata": {},
   "outputs": [],
   "source": [
    "job_kwargs = dict(n_jobs=-1, progress_bar=True, chunk_duration=\"1s\")"
   ]
  },
  {
   "cell_type": "code",
   "execution_count": null,
   "metadata": {},
   "outputs": [],
   "source": []
  },
  {
   "cell_type": "markdown",
   "metadata": {},
   "source": [
    "## Generate data\n",
    "\n",
    "spikeinterface have a from simple to sophisticated way of generating fake dataset with the grountruth\n",
    "\n",
    "Here we simulated a simple recording of 5 min with 5 units on a tetrode."
   ]
  },
  {
   "cell_type": "code",
   "execution_count": 5,
   "metadata": {},
   "outputs": [
    {
     "data": {
      "text/plain": [
       "InjectTemplatesRecording: 4 channels - 30.0kHz - 1 segments - 9,000,000 samples \n",
       "                          300.00s (5.00 minutes) - float32 dtype - 137.33 MiB"
      ]
     },
     "execution_count": 5,
     "metadata": {},
     "output_type": "execute_result"
    }
   ],
   "source": [
    "recording, gt_sorting = si.generate_ground_truth_recording(\n",
    "    durations=[300.0, ],\n",
    "    sampling_frequency=30000.0,\n",
    "    num_channels=4,\n",
    "    num_units=5,\n",
    "    generate_sorting_kwargs=dict(firing_rates=3.0, refractory_period_ms=4.0),\n",
    "    noise_kwargs=dict(noise_level=5.0, strategy=\"on_the_fly\"),\n",
    "    seed=2205,\n",
    ")\n",
    "recording"
   ]
  },
  {
   "cell_type": "code",
   "execution_count": 6,
   "metadata": {},
   "outputs": [
    {
     "data": {
      "text/plain": [
       "array([0, 1, 2, 3])"
      ]
     },
     "execution_count": 6,
     "metadata": {},
     "output_type": "execute_result"
    }
   ],
   "source": [
    "recording.channel_ids"
   ]
  },
  {
   "cell_type": "markdown",
   "metadata": {},
   "source": [
    "### Run a sorter"
   ]
  },
  {
   "cell_type": "code",
   "execution_count": 7,
   "metadata": {},
   "outputs": [
    {
     "name": "stdout",
     "output_type": "stream",
     "text": [
      "detect peaks using locally_exclusive with n_jobs = 12 and chunk_size = 30000\n"
     ]
    },
    {
     "data": {
      "application/vnd.jupyter.widget-view+json": {
       "model_id": "4ba67c9d124240f9b7a44e10ab891c73",
       "version_major": 2,
       "version_minor": 0
      },
      "text/plain": [
       "detect peaks using locally_exclusive:   0%|          | 0/300 [00:00<?, ?it/s]"
      ]
     },
     "metadata": {},
     "output_type": "display_data"
    },
    {
     "name": "stdout",
     "output_type": "stream",
     "text": [
      "We found 2014 peaks in total\n",
      "extract waveforms shared_memory mono buffer with n_jobs = 12 and chunk_size = 30000\n"
     ]
    },
    {
     "data": {
      "application/vnd.jupyter.widget-view+json": {
       "model_id": "1a2e33bbc76449a9b740a55966ef56b9",
       "version_major": 2,
       "version_minor": 0
      },
      "text/plain": [
       "extract waveforms shared_memory mono buffer:   0%|          | 0/300 [00:00<?, ?it/s]"
      ]
     },
     "metadata": {},
     "output_type": "display_data"
    },
    {
     "name": "stdout",
     "output_type": "stream",
     "text": [
      "extracting features with n_jobs = 12 and chunk_size = 30000\n"
     ]
    },
    {
     "data": {
      "application/vnd.jupyter.widget-view+json": {
       "model_id": "12e18c0402844ecc84d0aa2bfdccaeb8",
       "version_major": 2,
       "version_minor": 0
      },
      "text/plain": [
       "extracting features:   0%|          | 0/300 [00:00<?, ?it/s]"
      ]
     },
     "metadata": {},
     "output_type": "display_data"
    },
    {
     "name": "stdout",
     "output_type": "stream",
     "text": [
      "simple run time 7.00s\n",
      "NumpyFolderSorting: 6 units - 1 segments - 30.0kHz\n"
     ]
    }
   ],
   "source": [
    "sorter_folder = base_folder / \"static_simple_sorter\"\n",
    "if sorter_folder.exists():\n",
    "    shutil.rmtree(sorter_folder)\n",
    "\n",
    "sorter_params = dict(\n",
    "    apply_preprocessing=True,\n",
    "    # apply_preprocessing=False,\n",
    "    waveforms=dict(ms_before=1.0, ms_after=1.8),\n",
    "    filtering=dict(freq_min=300, freq_max=8000.0),\n",
    "    detection=dict(peak_sign=\"neg\", detect_threshold=5., exclude_sweep_ms=0.4, radius_um=100),\n",
    "    features=dict(n_components=3),\n",
    "    clustering=dict(method=\"hdbscan\"),\n",
    "    # clustering=dict(method=\"kmeans\", n_clusters=3),\n",
    "    # clustering=dict(method=\"gaussian_mixture\", n_components=5),\n",
    "    # clustering=dict(method=\"mean_shift\", bin_seeding=True),\n",
    "    # clustering=dict(method=\"affinity_propagation\"),\n",
    "    job_kwargs=dict(n_jobs=-1),\n",
    ")\n",
    "sorting = si.run_sorter(\"simple\", recording, output_folder=sorter_folder, verbose=True, **sorter_params)\n",
    "print(sorting)\n"
   ]
  },
  {
   "cell_type": "markdown",
   "metadata": {},
   "source": [
    "### lets explore features\n",
    "\n",
    "Our \"simple_sorter\" leave some files we can explore after the `run_sorter(...)`\n",
    "\n",
    "\n",
    "The file `features_tsvd.npy` contains the features computed by our sorter.\n",
    "\n",
    "The file `peak_labels.npy` contains the labels set by our sorter.\n",
    "\n",
    "\n",
    "The shape is `(num_spikes, num_components, num_channels)`.\n",
    "\n",
    "This can be flatten and then analyzed with umap for a simple display.\n",
    "\n",
    "We can see that algoythm HDBSCAN we choose agree with UMAP dimension reduction."
   ]
  },
  {
   "cell_type": "code",
   "execution_count": 8,
   "metadata": {},
   "outputs": [
    {
     "name": "stdout",
     "output_type": "stream",
     "text": [
      "(2014, 12) (2014, 3, 4) (2014,) float32\n"
     ]
    }
   ],
   "source": [
    "features = np.load(sorter_folder / \"sorter_output/features/features_tsvd.npy\")\n",
    "\n",
    "features_flat = features.reshape(features.shape[0], -1)\n",
    "\n",
    "peak_labels = np.load(sorter_folder / \"sorter_output/features/peak_labels.npy\")\n",
    "\n",
    "print(features_flat.shape, features.shape, peak_labels.shape,features.dtype)\n"
   ]
  },
  {
   "cell_type": "code",
   "execution_count": 9,
   "metadata": {},
   "outputs": [
    {
     "name": "stdout",
     "output_type": "stream",
     "text": [
      "UMAP(tqdm_kwds={'bar_format': '{desc}: {percentage:3.0f}%| {bar} {n_fmt}/{total_fmt} [{elapsed}]', 'desc': 'Epochs completed', 'disable': True})\n"
     ]
    },
    {
     "data": {
      "text/plain": [
       "<Axes: >"
      ]
     },
     "execution_count": 9,
     "metadata": {},
     "output_type": "execute_result"
    },
    {
     "data": {
      "image/png": "[encoded data removed]",
      "text/plain": [
       "<Figure size 800x800 with 1 Axes>"
      ]
     },
     "metadata": {},
     "output_type": "display_data"
    }
   ],
   "source": [
    "import umap\n",
    "import umap.plot\n",
    "\n",
    "mapper = umap.UMAP().fit(features_flat)\n",
    "print(mapper)\n",
    "umap.plot.points(mapper, labels=peak_labels)\n",
    "\n"
   ]
  },
  {
   "cell_type": "markdown",
   "metadata": {},
   "source": [
    "## SortingAnalyzer\n",
    "\n",
    "We run a SortingAnalyzer on this so we use the spikeinterface-gui to explore the result.\n",
    "\n",
    "We can observe that 2 units should be merged.\n"
   ]
  },
  {
   "cell_type": "code",
   "execution_count": 10,
   "metadata": {},
   "outputs": [
    {
     "data": {
      "application/vnd.jupyter.widget-view+json": {
       "model_id": "813a1d7bf847456b812d062d6fa65f59",
       "version_major": 2,
       "version_minor": 0
      },
      "text/plain": [
       "compute_waveforms:   0%|          | 0/300 [00:00<?, ?it/s]"
      ]
     },
     "metadata": {},
     "output_type": "display_data"
    },
    {
     "data": {
      "application/vnd.jupyter.widget-view+json": {
       "model_id": "b956904a133547a483951c43efc10b17",
       "version_major": 2,
       "version_minor": 0
      },
      "text/plain": [
       "spike_amplitudes:   0%|          | 0/300 [00:00<?, ?it/s]"
      ]
     },
     "metadata": {},
     "output_type": "display_data"
    },
    {
     "data": {
      "application/vnd.jupyter.widget-view+json": {
       "model_id": "35f4001b89ee4fb0857926e5e835636a",
       "version_major": 2,
       "version_minor": 0
      },
      "text/plain": [
       "Fitting PCA:   0%|          | 0/6 [00:00<?, ?it/s]"
      ]
     },
     "metadata": {},
     "output_type": "display_data"
    },
    {
     "data": {
      "application/vnd.jupyter.widget-view+json": {
       "model_id": "5123667e72e14a9ab3befef098d3cae4",
       "version_major": 2,
       "version_minor": 0
      },
      "text/plain": [
       "Projecting waveforms:   0%|          | 0/6 [00:00<?, ?it/s]"
      ]
     },
     "metadata": {},
     "output_type": "display_data"
    },
    {
     "name": "stderr",
     "output_type": "stream",
     "text": [
      "/home/samuel/Documents/SpikeInterface/spikeinterface/src/spikeinterface/qualitymetrics/misc_metrics.py:846: UserWarning: Some units have too few spikes : amplitude_cutoff is set to NaN\n",
      "  warnings.warn(f\"Some units have too few spikes : amplitude_cutoff is set to NaN\")\n"
     ]
    },
    {
     "data": {
      "text/plain": [
       "SortingAnalyzer: 4 channels - 6 units - 1 segments - memory - has recording\n",
       "Loaded 10 extensions: random_spikes, waveforms, templates, noise_levels, spike_amplitudes, unit_locations, principal_components, correlograms, template_similarity, quality_metrics"
      ]
     },
     "execution_count": 10,
     "metadata": {},
     "output_type": "execute_result"
    }
   ],
   "source": [
    "analyzer = si.create_sorting_analyzer(sorting, recording, sparse=False)\n",
    "analyzer.compute([\"random_spikes\", \"waveforms\", \"templates\", \"noise_levels\"], **job_kwargs)\n",
    "analyzer.compute([\"spike_amplitudes\", \"unit_locations\", \"principal_components\", \"correlograms\", \"template_similarity\"], **job_kwargs)\n",
    "analyzer.compute(\"quality_metrics\", metric_names=[\"snr\", \"amplitude_cutoff\", \"rp_violation\"])\n",
    "analyzer"
   ]
  },
  {
   "cell_type": "code",
   "execution_count": 11,
   "metadata": {},
   "outputs": [
    {
     "name": "stdout",
     "output_type": "stream",
     "text": [
      "https://figurl.org/f?v=npm://@fi-sci/figurl-sortingview@12/dist&d=sha1://04807d20a7f5506242708a5b73a92aae00e8f089\n"
     ]
    },
    {
     "data": {
      "text/plain": [
       "<spikeinterface.widgets.sorting_summary.SortingSummaryWidget at 0x723dceba5210>"
      ]
     },
     "execution_count": 11,
     "metadata": {},
     "output_type": "execute_result"
    }
   ],
   "source": [
    "si.plot_sorting_summary(analyzer, backend=\"sortingview\")\n"
   ]
  },
  {
   "cell_type": "code",
   "execution_count": 12,
   "metadata": {},
   "outputs": [
    {
     "data": {
      "text/plain": [
       "<spikeinterface.widgets.sorting_summary.SortingSummaryWidget at 0x723e1c1e3550>"
      ]
     },
     "execution_count": 12,
     "metadata": {},
     "output_type": "execute_result"
    }
   ],
   "source": [
    "%gui qt\n",
    "si.plot_sorting_summary(analyzer, backend=\"spikeinterface_gui\")\n"
   ]
  },
  {
   "cell_type": "markdown",
   "metadata": {},
   "source": [
    "## SortingAnalyzer on the groundtruth"
   ]
  },
  {
   "cell_type": "code",
   "execution_count": 13,
   "metadata": {},
   "outputs": [
    {
     "data": {
      "application/vnd.jupyter.widget-view+json": {
       "model_id": "d378cd5d420d45828bf83444adfa2092",
       "version_major": 2,
       "version_minor": 0
      },
      "text/plain": [
       "compute_waveforms:   0%|          | 0/300 [00:00<?, ?it/s]"
      ]
     },
     "metadata": {},
     "output_type": "display_data"
    },
    {
     "data": {
      "application/vnd.jupyter.widget-view+json": {
       "model_id": "028dfdaf2cf94b529366f5ffc4ad2796",
       "version_major": 2,
       "version_minor": 0
      },
      "text/plain": [
       "spike_amplitudes:   0%|          | 0/300 [00:00<?, ?it/s]"
      ]
     },
     "metadata": {},
     "output_type": "display_data"
    },
    {
     "data": {
      "application/vnd.jupyter.widget-view+json": {
       "model_id": "cea1f9a4c4c54ac7910bf6fc62783183",
       "version_major": 2,
       "version_minor": 0
      },
      "text/plain": [
       "Fitting PCA:   0%|          | 0/5 [00:00<?, ?it/s]"
      ]
     },
     "metadata": {},
     "output_type": "display_data"
    },
    {
     "data": {
      "application/vnd.jupyter.widget-view+json": {
       "model_id": "9fd2b6bed3944432832c25d841b92fa6",
       "version_major": 2,
       "version_minor": 0
      },
      "text/plain": [
       "Projecting waveforms:   0%|          | 0/5 [00:00<?, ?it/s]"
      ]
     },
     "metadata": {},
     "output_type": "display_data"
    },
    {
     "data": {
      "text/plain": [
       "SortingAnalyzer: 4 channels - 5 units - 1 segments - memory - has recording\n",
       "Loaded 10 extensions: random_spikes, waveforms, templates, noise_levels, spike_amplitudes, unit_locations, principal_components, correlograms, template_similarity, quality_metrics"
      ]
     },
     "execution_count": 13,
     "metadata": {},
     "output_type": "execute_result"
    }
   ],
   "source": [
    "gt_analyzer = si.create_sorting_analyzer(gt_sorting, recording, sparse=False)\n",
    "gt_analyzer.compute([\"random_spikes\", \"waveforms\", \"templates\", \"noise_levels\"], **job_kwargs)\n",
    "gt_analyzer.compute([\"spike_amplitudes\", \"unit_locations\", \"principal_components\", \"correlograms\", \"template_similarity\"], **job_kwargs)\n",
    "gt_analyzer.compute(\"quality_metrics\", metric_names=[\"snr\", \"amplitude_cutoff\", \"rp_violation\"])\n",
    "gt_analyzer"
   ]
  },
  {
   "cell_type": "code",
   "execution_count": 16,
   "metadata": {},
   "outputs": [],
   "source": [
    "# si.plot_sorting_summary(analyzer, backend=\"sortingview\")\n"
   ]
  },
  {
   "cell_type": "code",
   "execution_count": 17,
   "metadata": {},
   "outputs": [
    {
     "data": {
      "text/plain": [
       "<spikeinterface.widgets.sorting_summary.SortingSummaryWidget at 0x723dce837510>"
      ]
     },
     "execution_count": 17,
     "metadata": {},
     "output_type": "execute_result"
    }
   ],
   "source": [
    "si.plot_sorting_summary(gt_analyzer, backend=\"spikeinterface_gui\")"
   ]
  },
  {
   "cell_type": "markdown",
   "metadata": {},
   "source": [
    "## Compare result to groundtruth\n",
    "\n",
    "spikeinterface have a simple way check the result of a sorter and benchmark it to groundtruth sorting."
   ]
  },
  {
   "cell_type": "code",
   "execution_count": 18,
   "metadata": {},
   "outputs": [
    {
     "data": {
      "text/plain": [
       "<spikeinterface.widgets.comparison.AgreementMatrixWidget at 0x723cb41ee650>"
      ]
     },
     "execution_count": 18,
     "metadata": {},
     "output_type": "execute_result"
    },
    {
     "data": {
      "image/png": "[encoded data removed]",
      "text/plain": [
       "<Figure size 640x480 with 1 Axes>"
      ]
     },
     "metadata": {},
     "output_type": "display_data"
    }
   ],
   "source": [
    "comp = si.compare_sorter_to_ground_truth(gt_sorting, sorting)\n",
    "si.plot_agreement_matrix(comp)"
   ]
  },
  {
   "cell_type": "markdown",
   "metadata": {},
   "source": [
    "## lets run another sorter"
   ]
  },
  {
   "cell_type": "code",
   "execution_count": 19,
   "metadata": {},
   "outputs": [
    {
     "data": {
      "application/vnd.jupyter.widget-view+json": {
       "model_id": "335ee157720b400fae42b4e96ea7b729",
       "version_major": 2,
       "version_minor": 0
      },
      "text/plain": [
       "write_memory_recording:   0%|          | 0/300 [00:00<?, ?it/s]"
      ]
     },
     "metadata": {},
     "output_type": "display_data"
    },
    {
     "data": {
      "application/vnd.jupyter.widget-view+json": {
       "model_id": "349df2cd3f9b415ca2dc5a33e801a58d",
       "version_major": 2,
       "version_minor": 0
      },
      "text/plain": [
       "detect peaks using locally_exclusive:   0%|          | 0/300 [00:00<?, ?it/s]"
      ]
     },
     "metadata": {},
     "output_type": "display_data"
    },
    {
     "name": "stdout",
     "output_type": "stream",
     "text": [
      "We found 11733 peaks in total\n",
      "We kept 11733 peaks for clustering\n"
     ]
    },
    {
     "data": {
      "application/vnd.jupyter.widget-view+json": {
       "model_id": "80b05e2a77b240078a4ba6f658a68e76",
       "version_major": 2,
       "version_minor": 0
      },
      "text/plain": [
       "extract waveforms shared_memory mono buffer:   0%|          | 0/300 [00:00<?, ?it/s]"
      ]
     },
     "metadata": {},
     "output_type": "display_data"
    },
    {
     "data": {
      "application/vnd.jupyter.widget-view+json": {
       "model_id": "860da9adc30b4c0783dfb4f2e8a33ee1",
       "version_major": 2,
       "version_minor": 0
      },
      "text/plain": [
       "pipeline:   0%|          | 0/300 [00:00<?, ?it/s]"
      ]
     },
     "metadata": {},
     "output_type": "display_data"
    },
    {
     "data": {
      "application/vnd.jupyter.widget-view+json": {
       "model_id": "60736b9a111b4a4cb5bfd9cc76072068",
       "version_major": 2,
       "version_minor": 0
      },
      "text/plain": [
       "split_clusters with local_feature_clustering:   0%|          | 0/4 [00:00<?, ?it/s]"
      ]
     },
     "metadata": {},
     "output_type": "display_data"
    },
    {
     "data": {
      "application/vnd.jupyter.widget-view+json": {
       "model_id": "effac960fd4a4e6abdcdf6d03ffc2dfd",
       "version_major": 2,
       "version_minor": 0
      },
      "text/plain": [
       "find_merge_pairs with normalized_template_diff:   0%|          | 0/15 [00:00<?, ?it/s]"
      ]
     },
     "metadata": {},
     "output_type": "display_data"
    },
    {
     "data": {
      "application/vnd.jupyter.widget-view+json": {
       "model_id": "c24054ba7fe949cdb2f2b1032277d8ec",
       "version_major": 2,
       "version_minor": 0
      },
      "text/plain": [
       "estimate_templates_average:   0%|          | 0/300 [00:00<?, ?it/s]"
      ]
     },
     "metadata": {},
     "output_type": "display_data"
    },
    {
     "data": {
      "application/vnd.jupyter.widget-view+json": {
       "model_id": "dd3561a1a2344ace85f1728cfb233cbf",
       "version_major": 2,
       "version_minor": 0
      },
      "text/plain": [
       "find spikes (circus-omp-svd):   0%|          | 0/3000 [00:00<?, ?it/s]"
      ]
     },
     "metadata": {},
     "output_type": "display_data"
    },
    {
     "name": "stdout",
     "output_type": "stream",
     "text": [
      "tridesclous2 run time 91.11s\n"
     ]
    }
   ],
   "source": [
    "sorter_name = \"tridesclous2\"\n",
    "\n",
    "sorter_folder = base_folder / f\"sorter_{sorter_name}\"\n",
    "if sorter_folder.exists():\n",
    "    shutil.rmtree(sorter_folder)\n",
    "\n",
    "\n",
    "sorting2 = si.run_sorter(sorter_name, recording, output_folder=sorter_folder, verbose=True)\n"
   ]
  },
  {
   "cell_type": "code",
   "execution_count": 20,
   "metadata": {},
   "outputs": [
    {
     "data": {
      "application/vnd.jupyter.widget-view+json": {
       "model_id": "1440fdebeb184b409801f612752ff24e",
       "version_major": 2,
       "version_minor": 0
      },
      "text/plain": [
       "compute_waveforms:   0%|          | 0/300 [00:00<?, ?it/s]"
      ]
     },
     "metadata": {},
     "output_type": "display_data"
    },
    {
     "data": {
      "application/vnd.jupyter.widget-view+json": {
       "model_id": "f4443eb1dde44e458fc6d53f22dd67d5",
       "version_major": 2,
       "version_minor": 0
      },
      "text/plain": [
       "spike_amplitudes:   0%|          | 0/300 [00:00<?, ?it/s]"
      ]
     },
     "metadata": {},
     "output_type": "display_data"
    },
    {
     "data": {
      "application/vnd.jupyter.widget-view+json": {
       "model_id": "e7a2fec9637546268ba66e2aeb3e110d",
       "version_major": 2,
       "version_minor": 0
      },
      "text/plain": [
       "Fitting PCA:   0%|          | 0/6 [00:00<?, ?it/s]"
      ]
     },
     "metadata": {},
     "output_type": "display_data"
    },
    {
     "data": {
      "application/vnd.jupyter.widget-view+json": {
       "model_id": "8cfc5aa62b31496dbdd4209d2aa5b901",
       "version_major": 2,
       "version_minor": 0
      },
      "text/plain": [
       "Projecting waveforms:   0%|          | 0/6 [00:00<?, ?it/s]"
      ]
     },
     "metadata": {},
     "output_type": "display_data"
    },
    {
     "data": {
      "text/plain": [
       "SortingAnalyzer: 4 channels - 6 units - 1 segments - memory - has recording\n",
       "Loaded 10 extensions: random_spikes, waveforms, templates, noise_levels, spike_amplitudes, unit_locations, principal_components, correlograms, template_similarity, quality_metrics"
      ]
     },
     "execution_count": 20,
     "metadata": {},
     "output_type": "execute_result"
    }
   ],
   "source": [
    "analyzer2 = si.create_sorting_analyzer(sorting2, recording, sparse=False)\n",
    "analyzer2.compute([\"random_spikes\", \"waveforms\", \"templates\", \"noise_levels\"], **job_kwargs)\n",
    "analyzer2.compute([\"spike_amplitudes\", \"unit_locations\", \"principal_components\", \"correlograms\", \"template_similarity\"], **job_kwargs)\n",
    "analyzer2.compute(\"quality_metrics\", metric_names=[\"snr\", \"amplitude_cutoff\", \"rp_violation\"])\n",
    "analyzer2"
   ]
  },
  {
   "cell_type": "code",
   "execution_count": 22,
   "metadata": {},
   "outputs": [
    {
     "data": {
      "text/plain": [
       "<spikeinterface.widgets.sorting_summary.SortingSummaryWidget at 0x723dce87bcd0>"
      ]
     },
     "execution_count": 22,
     "metadata": {},
     "output_type": "execute_result"
    }
   ],
   "source": [
    "%gui qt\n",
    "si.plot_sorting_summary(analyzer2, backend=\"spikeinterface_gui\")"
   ]
  },
  {
   "cell_type": "markdown",
   "metadata": {},
   "source": [
    "## curation with quality metrics"
   ]
  },
  {
   "cell_type": "code",
   "execution_count": 23,
   "metadata": {},
   "outputs": [
    {
     "data": {
      "text/html": [
       "<div>\n",
       "<style scoped>\n",
       "    .dataframe tbody tr th:only-of-type {\n",
       "        vertical-align: middle;\n",
       "    }\n",
       "\n",
       "    .dataframe tbody tr th {\n",
       "        vertical-align: top;\n",
       "    }\n",
       "\n",
       "    .dataframe thead th {\n",
       "        text-align: right;\n",
       "    }\n",
       "</style>\n",
       "<table border=\"1\" class=\"dataframe\">\n",
       "  <thead>\n",
       "    <tr style=\"text-align: right;\">\n",
       "      <th></th>\n",
       "      <th>amplitude_cutoff</th>\n",
       "      <th>rp_contamination</th>\n",
       "      <th>rp_violations</th>\n",
       "      <th>snr</th>\n",
       "    </tr>\n",
       "  </thead>\n",
       "  <tbody>\n",
       "    <tr>\n",
       "      <th>0</th>\n",
       "      <td>0.000007</td>\n",
       "      <td>1.000000</td>\n",
       "      <td>24740.0</td>\n",
       "      <td>1.994851</td>\n",
       "    </tr>\n",
       "    <tr>\n",
       "      <th>2</th>\n",
       "      <td>0.000044</td>\n",
       "      <td>1.000000</td>\n",
       "      <td>24858.0</td>\n",
       "      <td>2.023048</td>\n",
       "    </tr>\n",
       "    <tr>\n",
       "      <th>4</th>\n",
       "      <td>0.000037</td>\n",
       "      <td>1.000000</td>\n",
       "      <td>24051.0</td>\n",
       "      <td>1.971085</td>\n",
       "    </tr>\n",
       "    <tr>\n",
       "      <th>5</th>\n",
       "      <td>0.002336</td>\n",
       "      <td>0.000000</td>\n",
       "      <td>0.0</td>\n",
       "      <td>12.070675</td>\n",
       "    </tr>\n",
       "    <tr>\n",
       "      <th>6</th>\n",
       "      <td>0.000025</td>\n",
       "      <td>1.000000</td>\n",
       "      <td>23570.0</td>\n",
       "      <td>2.029913</td>\n",
       "    </tr>\n",
       "    <tr>\n",
       "      <th>7</th>\n",
       "      <td>0.000779</td>\n",
       "      <td>0.205475</td>\n",
       "      <td>1.0</td>\n",
       "      <td>16.838496</td>\n",
       "    </tr>\n",
       "  </tbody>\n",
       "</table>\n",
       "</div>"
      ],
      "text/plain": [
       "   amplitude_cutoff  rp_contamination  rp_violations        snr\n",
       "0          0.000007          1.000000        24740.0   1.994851\n",
       "2          0.000044          1.000000        24858.0   2.023048\n",
       "4          0.000037          1.000000        24051.0   1.971085\n",
       "5          0.002336          0.000000            0.0  12.070675\n",
       "6          0.000025          1.000000        23570.0   2.029913\n",
       "7          0.000779          0.205475            1.0  16.838496"
      ]
     },
     "execution_count": 23,
     "metadata": {},
     "output_type": "execute_result"
    }
   ],
   "source": [
    "metrics = analyzer2.get_extension(\"quality_metrics\").get_data()\n",
    "metrics"
   ]
  },
  {
   "cell_type": "code",
   "execution_count": 24,
   "metadata": {},
   "outputs": [
    {
     "data": {
      "text/html": [
       "<div>\n",
       "<style scoped>\n",
       "    .dataframe tbody tr th:only-of-type {\n",
       "        vertical-align: middle;\n",
       "    }\n",
       "\n",
       "    .dataframe tbody tr th {\n",
       "        vertical-align: top;\n",
       "    }\n",
       "\n",
       "    .dataframe thead th {\n",
       "        text-align: right;\n",
       "    }\n",
       "</style>\n",
       "<table border=\"1\" class=\"dataframe\">\n",
       "  <thead>\n",
       "    <tr style=\"text-align: right;\">\n",
       "      <th></th>\n",
       "      <th>amplitude_cutoff</th>\n",
       "      <th>rp_contamination</th>\n",
       "      <th>rp_violations</th>\n",
       "      <th>snr</th>\n",
       "    </tr>\n",
       "  </thead>\n",
       "  <tbody>\n",
       "    <tr>\n",
       "      <th>5</th>\n",
       "      <td>0.002336</td>\n",
       "      <td>0.000000</td>\n",
       "      <td>0.0</td>\n",
       "      <td>12.070675</td>\n",
       "    </tr>\n",
       "    <tr>\n",
       "      <th>7</th>\n",
       "      <td>0.000779</td>\n",
       "      <td>0.205475</td>\n",
       "      <td>1.0</td>\n",
       "      <td>16.838496</td>\n",
       "    </tr>\n",
       "  </tbody>\n",
       "</table>\n",
       "</div>"
      ],
      "text/plain": [
       "   amplitude_cutoff  rp_contamination  rp_violations        snr\n",
       "5          0.002336          0.000000            0.0  12.070675\n",
       "7          0.000779          0.205475            1.0  16.838496"
      ]
     },
     "metadata": {},
     "output_type": "display_data"
    },
    {
     "name": "stdout",
     "output_type": "stream",
     "text": [
      "[5 7]\n"
     ]
    }
   ],
   "source": [
    "keep = metrics.query(\"rp_contamination < 0.25 & snr > 7\")\n",
    "display(keep)\n",
    "\n",
    "keep_unit_ids = keep.index.values\n",
    "print(keep_unit_ids)\n"
   ]
  },
  {
   "cell_type": "code",
   "execution_count": 25,
   "metadata": {},
   "outputs": [
    {
     "data": {
      "text/plain": [
       "SortingAnalyzer: 4 channels - 2 units - 1 segments - memory - has recording\n",
       "Loaded 10 extensions: random_spikes, waveforms, templates, noise_levels, spike_amplitudes, unit_locations, principal_components, correlograms, template_similarity, quality_metrics"
      ]
     },
     "execution_count": 25,
     "metadata": {},
     "output_type": "execute_result"
    }
   ],
   "source": [
    "analyzer3 = analyzer2.select_units(unit_ids=keep_unit_ids)\n",
    "analyzer3\n",
    "                                  "
   ]
  },
  {
   "cell_type": "code",
   "execution_count": 26,
   "metadata": {},
   "outputs": [
    {
     "data": {
      "text/plain": [
       "<spikeinterface.widgets.sorting_summary.SortingSummaryWidget at 0x723dd76a9310>"
      ]
     },
     "execution_count": 26,
     "metadata": {},
     "output_type": "execute_result"
    }
   ],
   "source": [
    "%gui qt\n",
    "si.plot_sorting_summary(analyzer3, backend=\"spikeinterface_gui\")"
   ]
  },
  {
   "cell_type": "markdown",
   "metadata": {},
   "source": [
    "## export report"
   ]
  },
  {
   "cell_type": "code",
   "execution_count": 29,
   "metadata": {},
   "outputs": [],
   "source": [
    "report_folder = base_folder / f\"report_tridesclous2_clean\"\n",
    "\n",
    "si.export_report(analyzer3, output_folder=report_folder)"
   ]
  },
  {
   "cell_type": "markdown",
   "metadata": {},
   "source": [
    "## check with the ground truth\n",
    "\n",
    "Here we compare the cleaned unit list from tridesclous2"
   ]
  },
  {
   "cell_type": "code",
   "execution_count": 30,
   "metadata": {},
   "outputs": [
    {
     "data": {
      "text/plain": [
       "<spikeinterface.widgets.comparison.AgreementMatrixWidget at 0x723ce7c0f910>"
      ]
     },
     "execution_count": 30,
     "metadata": {},
     "output_type": "execute_result"
    },
    {
     "data": {
      "image/png": "[encoded data removed]",
      "text/plain": [
       "<Figure size 640x480 with 1 Axes>"
      ]
     },
     "metadata": {},
     "output_type": "display_data"
    }
   ],
   "source": [
    "comp2 = si.compare_sorter_to_ground_truth(gt_sorting, analyzer3.sorting)\n",
    "si.plot_agreement_matrix(comp2)"
   ]
  },
  {
   "cell_type": "code",
   "execution_count": null,
   "metadata": {},
   "outputs": [],
   "source": []
  }
 ],
 "metadata": {
  "kernelspec": {
   "display_name": "Python 3 (ipykernel)",
   "language": "python",
   "name": "python3"
  },
  "language_info": {
   "codemirror_mode": {
    "name": "ipython",
    "version": 3
   },
   "file_extension": ".py",
   "mimetype": "text/x-python",
   "name": "python",
   "nbconvert_exporter": "python",
   "pygments_lexer": "ipython3",
   "version": "3.11.0rc1"
  }
 },
 "nbformat": 4,
 "nbformat_minor": 4
}
